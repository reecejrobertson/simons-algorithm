{
 "cells": [
  {
   "cell_type": "markdown",
   "metadata": {},
   "source": [
    "# IonQ Forte Data Generation\n",
    "\n",
    "A special jupyter notebook for running Simon's algorithm on IonQ Forte during a dedicated hour long reservation through Amazon Web Services (AWS)."
   ]
  },
  {
   "cell_type": "code",
   "execution_count": 1,
   "metadata": {
    "tags": []
   },
   "outputs": [
    {
     "name": "stdout",
     "output_type": "stream",
     "text": [
      "Requirement already satisfied: qiskit_braket_provider in /home/ec2-user/anaconda3/envs/JupyterSystemEnv/lib/python3.10/site-packages (0.1.1)\n",
      "Requirement already satisfied: certifi>=2021.5.30 in /home/ec2-user/anaconda3/envs/JupyterSystemEnv/lib/python3.10/site-packages (from qiskit_braket_provider) (2024.2.2)\n",
      "Requirement already satisfied: qiskit<1.0,>=0.34.2 in /home/ec2-user/anaconda3/envs/JupyterSystemEnv/lib/python3.10/site-packages (from qiskit_braket_provider) (0.46.0)\n",
      "Requirement already satisfied: qiskit-ionq>=0.4.7 in /home/ec2-user/anaconda3/envs/JupyterSystemEnv/lib/python3.10/site-packages (from qiskit_braket_provider) (0.4.7)\n",
      "Requirement already satisfied: amazon-braket-sdk>=1.65.0 in /home/ec2-user/anaconda3/envs/JupyterSystemEnv/lib/python3.10/site-packages (from qiskit_braket_provider) (1.70.2)\n",
      "Requirement already satisfied: setuptools>=40.1.0 in /home/ec2-user/anaconda3/envs/JupyterSystemEnv/lib/python3.10/site-packages (from qiskit_braket_provider) (69.0.3)\n",
      "Requirement already satisfied: numpy>=1.3 in /home/ec2-user/anaconda3/envs/JupyterSystemEnv/lib/python3.10/site-packages (from qiskit_braket_provider) (1.26.4)\n",
      "Requirement already satisfied: amazon-braket-schemas>=1.20.2 in /home/ec2-user/anaconda3/envs/JupyterSystemEnv/lib/python3.10/site-packages (from amazon-braket-sdk>=1.65.0->qiskit_braket_provider) (1.20.2)\n",
      "Requirement already satisfied: amazon-braket-default-simulator>=1.19.1 in /home/ec2-user/anaconda3/envs/JupyterSystemEnv/lib/python3.10/site-packages (from amazon-braket-sdk>=1.65.0->qiskit_braket_provider) (1.20.1)\n",
      "Requirement already satisfied: oqpy~=0.3.5 in /home/ec2-user/anaconda3/envs/JupyterSystemEnv/lib/python3.10/site-packages (from amazon-braket-sdk>=1.65.0->qiskit_braket_provider) (0.3.5)\n",
      "Requirement already satisfied: backoff in /home/ec2-user/anaconda3/envs/JupyterSystemEnv/lib/python3.10/site-packages (from amazon-braket-sdk>=1.65.0->qiskit_braket_provider) (2.2.1)\n",
      "Requirement already satisfied: boltons in /home/ec2-user/anaconda3/envs/JupyterSystemEnv/lib/python3.10/site-packages (from amazon-braket-sdk>=1.65.0->qiskit_braket_provider) (23.1.1)\n",
      "Requirement already satisfied: boto3>=1.28.53 in /home/ec2-user/anaconda3/envs/JupyterSystemEnv/lib/python3.10/site-packages (from amazon-braket-sdk>=1.65.0->qiskit_braket_provider) (1.34.38)\n",
      "Requirement already satisfied: cloudpickle==2.2.1 in /home/ec2-user/anaconda3/envs/JupyterSystemEnv/lib/python3.10/site-packages (from amazon-braket-sdk>=1.65.0->qiskit_braket_provider) (2.2.1)\n",
      "Requirement already satisfied: nest-asyncio in /home/ec2-user/anaconda3/envs/JupyterSystemEnv/lib/python3.10/site-packages (from amazon-braket-sdk>=1.65.0->qiskit_braket_provider) (1.6.0)\n",
      "Requirement already satisfied: networkx in /home/ec2-user/anaconda3/envs/JupyterSystemEnv/lib/python3.10/site-packages (from amazon-braket-sdk>=1.65.0->qiskit_braket_provider) (3.2.1)\n",
      "Requirement already satisfied: openpulse in /home/ec2-user/anaconda3/envs/JupyterSystemEnv/lib/python3.10/site-packages (from amazon-braket-sdk>=1.65.0->qiskit_braket_provider) (0.5.0)\n",
      "Requirement already satisfied: openqasm3 in /home/ec2-user/anaconda3/envs/JupyterSystemEnv/lib/python3.10/site-packages (from amazon-braket-sdk>=1.65.0->qiskit_braket_provider) (0.5.0)\n",
      "Requirement already satisfied: sympy in /home/ec2-user/anaconda3/envs/JupyterSystemEnv/lib/python3.10/site-packages (from amazon-braket-sdk>=1.65.0->qiskit_braket_provider) (1.12)\n",
      "Requirement already satisfied: qiskit-terra==0.46.0 in /home/ec2-user/anaconda3/envs/JupyterSystemEnv/lib/python3.10/site-packages (from qiskit<1.0,>=0.34.2->qiskit_braket_provider) (0.46.0)\n",
      "Requirement already satisfied: rustworkx>=0.13.0 in /home/ec2-user/anaconda3/envs/JupyterSystemEnv/lib/python3.10/site-packages (from qiskit-terra==0.46.0->qiskit<1.0,>=0.34.2->qiskit_braket_provider) (0.14.0)\n",
      "Requirement already satisfied: ply>=3.10 in /home/ec2-user/anaconda3/envs/JupyterSystemEnv/lib/python3.10/site-packages (from qiskit-terra==0.46.0->qiskit<1.0,>=0.34.2->qiskit_braket_provider) (3.11)\n",
      "Requirement already satisfied: psutil>=5 in /home/ec2-user/anaconda3/envs/JupyterSystemEnv/lib/python3.10/site-packages (from qiskit-terra==0.46.0->qiskit<1.0,>=0.34.2->qiskit_braket_provider) (5.9.8)\n",
      "Requirement already satisfied: scipy>=1.5 in /home/ec2-user/anaconda3/envs/JupyterSystemEnv/lib/python3.10/site-packages (from qiskit-terra==0.46.0->qiskit<1.0,>=0.34.2->qiskit_braket_provider) (1.12.0)\n",
      "Requirement already satisfied: dill>=0.3 in /home/ec2-user/anaconda3/envs/JupyterSystemEnv/lib/python3.10/site-packages (from qiskit-terra==0.46.0->qiskit<1.0,>=0.34.2->qiskit_braket_provider) (0.3.8)\n",
      "Requirement already satisfied: python-dateutil>=2.8.0 in /home/ec2-user/anaconda3/envs/JupyterSystemEnv/lib/python3.10/site-packages (from qiskit-terra==0.46.0->qiskit<1.0,>=0.34.2->qiskit_braket_provider) (2.8.2)\n",
      "Requirement already satisfied: stevedore>=3.0.0 in /home/ec2-user/anaconda3/envs/JupyterSystemEnv/lib/python3.10/site-packages (from qiskit-terra==0.46.0->qiskit<1.0,>=0.34.2->qiskit_braket_provider) (5.1.0)\n",
      "Requirement already satisfied: symengine>=0.11 in /home/ec2-user/anaconda3/envs/JupyterSystemEnv/lib/python3.10/site-packages (from qiskit-terra==0.46.0->qiskit<1.0,>=0.34.2->qiskit_braket_provider) (0.11.0)\n",
      "Requirement already satisfied: typing-extensions in /home/ec2-user/anaconda3/envs/JupyterSystemEnv/lib/python3.10/site-packages (from qiskit-terra==0.46.0->qiskit<1.0,>=0.34.2->qiskit_braket_provider) (4.9.0)\n",
      "Requirement already satisfied: decorator>=5.1.0 in /home/ec2-user/anaconda3/envs/JupyterSystemEnv/lib/python3.10/site-packages (from qiskit-ionq>=0.4.7->qiskit_braket_provider) (5.1.1)\n",
      "Requirement already satisfied: requests>=2.24.0 in /home/ec2-user/anaconda3/envs/JupyterSystemEnv/lib/python3.10/site-packages (from qiskit-ionq>=0.4.7->qiskit_braket_provider) (2.31.0)\n",
      "Requirement already satisfied: retry>=0.9.0 in /home/ec2-user/anaconda3/envs/JupyterSystemEnv/lib/python3.10/site-packages (from qiskit-ionq>=0.4.7->qiskit_braket_provider) (0.9.2)\n",
      "Requirement already satisfied: importlib-metadata>=4.11.4 in /home/ec2-user/anaconda3/envs/JupyterSystemEnv/lib/python3.10/site-packages (from qiskit-ionq>=0.4.7->qiskit_braket_provider) (6.11.0)\n",
      "Requirement already satisfied: opt-einsum in /home/ec2-user/anaconda3/envs/JupyterSystemEnv/lib/python3.10/site-packages (from amazon-braket-default-simulator>=1.19.1->amazon-braket-sdk>=1.65.0->qiskit_braket_provider) (3.3.0)\n",
      "Requirement already satisfied: pydantic<2.0,>=1.9 in /home/ec2-user/anaconda3/envs/JupyterSystemEnv/lib/python3.10/site-packages (from amazon-braket-default-simulator>=1.19.1->amazon-braket-sdk>=1.65.0->qiskit_braket_provider) (1.10.14)\n",
      "Requirement already satisfied: antlr4-python3-runtime==4.9.2 in /home/ec2-user/anaconda3/envs/JupyterSystemEnv/lib/python3.10/site-packages (from amazon-braket-default-simulator>=1.19.1->amazon-braket-sdk>=1.65.0->qiskit_braket_provider) (4.9.2)\n",
      "Requirement already satisfied: botocore<1.35.0,>=1.34.38 in /home/ec2-user/anaconda3/envs/JupyterSystemEnv/lib/python3.10/site-packages (from boto3>=1.28.53->amazon-braket-sdk>=1.65.0->qiskit_braket_provider) (1.34.38)\n",
      "Requirement already satisfied: jmespath<2.0.0,>=0.7.1 in /home/ec2-user/anaconda3/envs/JupyterSystemEnv/lib/python3.10/site-packages (from boto3>=1.28.53->amazon-braket-sdk>=1.65.0->qiskit_braket_provider) (1.0.1)\n",
      "Requirement already satisfied: s3transfer<0.11.0,>=0.10.0 in /home/ec2-user/anaconda3/envs/JupyterSystemEnv/lib/python3.10/site-packages (from boto3>=1.28.53->amazon-braket-sdk>=1.65.0->qiskit_braket_provider) (0.10.0)\n",
      "Requirement already satisfied: zipp>=0.5 in /home/ec2-user/anaconda3/envs/JupyterSystemEnv/lib/python3.10/site-packages (from importlib-metadata>=4.11.4->qiskit-ionq>=0.4.7->qiskit_braket_provider) (3.17.0)\n",
      "Requirement already satisfied: mypy-extensions>=0.2.0 in /home/ec2-user/anaconda3/envs/JupyterSystemEnv/lib/python3.10/site-packages (from oqpy~=0.3.5->amazon-braket-sdk>=1.65.0->qiskit_braket_provider) (1.0.0)\n",
      "Requirement already satisfied: charset-normalizer<4,>=2 in /home/ec2-user/anaconda3/envs/JupyterSystemEnv/lib/python3.10/site-packages (from requests>=2.24.0->qiskit-ionq>=0.4.7->qiskit_braket_provider) (3.3.2)\n",
      "Requirement already satisfied: idna<4,>=2.5 in /home/ec2-user/anaconda3/envs/JupyterSystemEnv/lib/python3.10/site-packages (from requests>=2.24.0->qiskit-ionq>=0.4.7->qiskit_braket_provider) (3.6)\n",
      "Requirement already satisfied: urllib3<3,>=1.21.1 in /home/ec2-user/anaconda3/envs/JupyterSystemEnv/lib/python3.10/site-packages (from requests>=2.24.0->qiskit-ionq>=0.4.7->qiskit_braket_provider) (1.26.18)\n",
      "Requirement already satisfied: py<2.0.0,>=1.4.26 in /home/ec2-user/anaconda3/envs/JupyterSystemEnv/lib/python3.10/site-packages (from retry>=0.9.0->qiskit-ionq>=0.4.7->qiskit_braket_provider) (1.11.0)\n",
      "Requirement already satisfied: mpmath>=0.19 in /home/ec2-user/anaconda3/envs/JupyterSystemEnv/lib/python3.10/site-packages (from sympy->amazon-braket-sdk>=1.65.0->qiskit_braket_provider) (1.3.0)\n",
      "Requirement already satisfied: six>=1.5 in /home/ec2-user/anaconda3/envs/JupyterSystemEnv/lib/python3.10/site-packages (from python-dateutil>=2.8.0->qiskit-terra==0.46.0->qiskit<1.0,>=0.34.2->qiskit_braket_provider) (1.16.0)\n",
      "Requirement already satisfied: pbr!=2.1.0,>=2.0.0 in /home/ec2-user/anaconda3/envs/JupyterSystemEnv/lib/python3.10/site-packages (from stevedore>=3.0.0->qiskit-terra==0.46.0->qiskit<1.0,>=0.34.2->qiskit_braket_provider) (6.0.0)\n"
     ]
    }
   ],
   "source": [
    "!pip install --upgrade qiskit_braket_provider"
   ]
  },
  {
   "cell_type": "code",
   "execution_count": 2,
   "metadata": {
    "tags": []
   },
   "outputs": [
    {
     "name": "stdout",
     "output_type": "stream",
     "text": [
      "BraketBackend[Forte 1]\n"
     ]
    }
   ],
   "source": [
    "from qiskit import QuantumCircuit\n",
    "from qiskit_braket_provider import AWSBraketProvider\n",
    "\n",
    "# Define the needed constants.\n",
    "N = 18\n",
    "ITER = 2\n",
    "SHOTS = 4096\n",
    "\n",
    "# Load the account.\n",
    "provider = AWSBraketProvider()\n",
    "backend = provider.get_backend('Forte 1')\n",
    "\n",
    "print(backend)"
   ]
  },
  {
   "cell_type": "code",
   "execution_count": 3,
   "metadata": {
    "tags": []
   },
   "outputs": [
    {
     "name": "stdout",
     "output_type": "stream",
     "text": [
      "Iteration 1 of 2:\n",
      "\t2 qubits\n",
      "\t3 qubits\n",
      "\t4 qubits\n",
      "\t5 qubits\n",
      "\t6 qubits\n",
      "\t7 qubits\n",
      "\t8 qubits\n",
      "\t9 qubits\n",
      "\t10 qubits\n",
      "\t11 qubits\n",
      "\t12 qubits\n",
      "\t13 qubits\n",
      "\t14 qubits\n",
      "\t15 qubits\n",
      "\t16 qubits\n",
      "\t17 qubits\n",
      "\t18 qubits\n",
      "Iteration 2 of 2:\n",
      "\t2 qubits\n",
      "\t3 qubits\n",
      "\t4 qubits\n",
      "\t5 qubits\n",
      "\t6 qubits\n",
      "\t7 qubits\n",
      "\t8 qubits\n",
      "\t9 qubits\n",
      "\t10 qubits\n",
      "\t11 qubits\n",
      "\t12 qubits\n",
      "\t13 qubits\n",
      "\t14 qubits\n",
      "\t15 qubits\n",
      "\t16 qubits\n",
      "\t17 qubits\n",
      "\t18 qubits\n"
     ]
    }
   ],
   "source": [
    "jobsList = []\n",
    "\n",
    "# For each iteration:\n",
    "for i in range(1, ITER+1):\n",
    "    print(f'Iteration {i} of {ITER}:')\n",
    "\n",
    "    # For each problem size:\n",
    "    for n in range(2, N+1):\n",
    "        print(f'\\t{n} qubits')\n",
    "\n",
    "        # Create the circuit for this run on Simon's algorithm.\n",
    "        circuit = QuantumCircuit(2*n)\n",
    "        for m in range(n):\n",
    "            circuit.h(m)\n",
    "        for m in range(n):\n",
    "            circuit.cx(m, n+m)\n",
    "        for m in range(n):\n",
    "            circuit.cx(0, n+m)\n",
    "        for m in range(n):\n",
    "            circuit.h(m)\n",
    "\n",
    "        # Run the transpiled circuit using the simulated fake backend with EM.\n",
    "        job = backend.run(\n",
    "            circuit,\n",
    "            shots=SHOTS,\n",
    "            reservation_arn=\"arn:aws:braket:us-east-1:023231745494:reservation/0c4b830b-7400-475a-b06e-08cb0da85ebb\"\n",
    "        )\n",
    "\n",
    "        # Append the job to the job list.\n",
    "        jobsList.append((job, n, i))"
   ]
  },
  {
   "cell_type": "code",
   "execution_count": 6,
   "metadata": {
    "tags": []
   },
   "outputs": [
    {
     "name": "stdout",
     "output_type": "stream",
     "text": [
      "<qiskit_braket_provider.providers.braket_job.AmazonBraketTask object at 0x7fdafbb96020> 1 2\n",
      "<qiskit_braket_provider.providers.braket_job.AmazonBraketTask object at 0x7fdafabbf670> 1 3\n",
      "<qiskit_braket_provider.providers.braket_job.AmazonBraketTask object at 0x7fdafaedbc70> 1 4\n",
      "<qiskit_braket_provider.providers.braket_job.AmazonBraketTask object at 0x7fdafac02d40> 1 5\n",
      "<qiskit_braket_provider.providers.braket_job.AmazonBraketTask object at 0x7fdaf9549a80> 1 6\n",
      "<qiskit_braket_provider.providers.braket_job.AmazonBraketTask object at 0x7fdaf8f067d0> 1 7\n",
      "<qiskit_braket_provider.providers.braket_job.AmazonBraketTask object at 0x7fdaf886ad70> 1 8\n",
      "<qiskit_braket_provider.providers.braket_job.AmazonBraketTask object at 0x7fdaf827bac0> 1 9\n",
      "<qiskit_braket_provider.providers.braket_job.AmazonBraketTask object at 0x7fdaf3dc9000> 1 10\n",
      "<qiskit_braket_provider.providers.braket_job.AmazonBraketTask object at 0x7fdaf3761330> 1 11\n",
      "<qiskit_braket_provider.providers.braket_job.AmazonBraketTask object at 0x7fdaf32fe320> 1 12\n",
      "<qiskit_braket_provider.providers.braket_job.AmazonBraketTask object at 0x7fdaf2cab2b0> 1 13\n",
      "<qiskit_braket_provider.providers.braket_job.AmazonBraketTask object at 0x7fdaf264bb20> 1 14\n",
      "<qiskit_braket_provider.providers.braket_job.AmazonBraketTask object at 0x7fdaf21f9120> 1 15\n",
      "<qiskit_braket_provider.providers.braket_job.AmazonBraketTask object at 0x7fdaf1b71990> 1 16\n",
      "<qiskit_braket_provider.providers.braket_job.AmazonBraketTask object at 0x7fdaf1535780> 1 17\n",
      "<qiskit_braket_provider.providers.braket_job.AmazonBraketTask object at 0x7fdaf10de830> 1 18\n"
     ]
    },
    {
     "name": "stderr",
     "output_type": "stream",
     "text": [
      "Task is in terminal state CANCELLED and no result is available.\n",
      "Task is in terminal state CANCELLED and no result is available.\n",
      "Task is in terminal state CANCELLED and no result is available.\n"
     ]
    },
    {
     "ename": "TypeError",
     "evalue": "object of type 'NoneType' has no len()",
     "output_type": "error",
     "traceback": [
      "\u001b[0;31m---------------------------------------------------------------------------\u001b[0m",
      "\u001b[0;31mTypeError\u001b[0m                                 Traceback (most recent call last)",
      "Cell \u001b[0;32mIn[6], line 4\u001b[0m\n\u001b[1;32m      2\u001b[0m \u001b[38;5;28;01mfor\u001b[39;00m job, n, i \u001b[38;5;129;01min\u001b[39;00m jobsList:\n\u001b[1;32m      3\u001b[0m     \u001b[38;5;28mprint\u001b[39m(job, i, n)\n\u001b[0;32m----> 4\u001b[0m     result \u001b[38;5;241m=\u001b[39m \u001b[43mjob\u001b[49m\u001b[38;5;241;43m.\u001b[39;49m\u001b[43mresult\u001b[49m\u001b[43m(\u001b[49m\u001b[43m)\u001b[49m\u001b[38;5;241;43m.\u001b[39;49m\u001b[43mget_counts\u001b[49m\u001b[43m(\u001b[49m\u001b[43m)\u001b[49m\n\u001b[1;32m      5\u001b[0m     \u001b[38;5;28;01mwith\u001b[39;00m \u001b[38;5;28mopen\u001b[39m(\n\u001b[1;32m      6\u001b[0m         \u001b[38;5;124mf\u001b[39m\u001b[38;5;124m'\u001b[39m\u001b[38;5;124mIonQForte/n\u001b[39m\u001b[38;5;132;01m{\u001b[39;00mn\u001b[38;5;132;01m}\u001b[39;00m\u001b[38;5;124mi\u001b[39m\u001b[38;5;132;01m{\u001b[39;00mi\u001b[38;5;132;01m}\u001b[39;00m\u001b[38;5;124m.txt\u001b[39m\u001b[38;5;124m'\u001b[39m, \u001b[38;5;124m'\u001b[39m\u001b[38;5;124mw+\u001b[39m\u001b[38;5;124m'\u001b[39m\n\u001b[1;32m      7\u001b[0m     ) \u001b[38;5;28;01mas\u001b[39;00m file:\n\u001b[1;32m      8\u001b[0m         file\u001b[38;5;241m.\u001b[39mwrite(\u001b[38;5;28mstr\u001b[39m(result))\n",
      "File \u001b[0;32m~/anaconda3/envs/Braket/lib/python3.10/site-packages/qiskit/result/result.py:263\u001b[0m, in \u001b[0;36mResult.get_counts\u001b[0;34m(self, experiment)\u001b[0m\n\u001b[1;32m    246\u001b[0m \u001b[38;5;250m\u001b[39m\u001b[38;5;124;03m\"\"\"Get the histogram data of an experiment.\u001b[39;00m\n\u001b[1;32m    247\u001b[0m \n\u001b[1;32m    248\u001b[0m \u001b[38;5;124;03mArgs:\u001b[39;00m\n\u001b[0;32m   (...)\u001b[0m\n\u001b[1;32m    260\u001b[0m \u001b[38;5;124;03m    QiskitError: if there are no counts for the experiment.\u001b[39;00m\n\u001b[1;32m    261\u001b[0m \u001b[38;5;124;03m\"\"\"\u001b[39;00m\n\u001b[1;32m    262\u001b[0m \u001b[38;5;28;01mif\u001b[39;00m experiment \u001b[38;5;129;01mis\u001b[39;00m \u001b[38;5;28;01mNone\u001b[39;00m:\n\u001b[0;32m--> 263\u001b[0m     exp_keys \u001b[38;5;241m=\u001b[39m \u001b[38;5;28mrange\u001b[39m(\u001b[38;5;28;43mlen\u001b[39;49m\u001b[43m(\u001b[49m\u001b[38;5;28;43mself\u001b[39;49m\u001b[38;5;241;43m.\u001b[39;49m\u001b[43mresults\u001b[49m\u001b[43m)\u001b[49m)\n\u001b[1;32m    264\u001b[0m \u001b[38;5;28;01melse\u001b[39;00m:\n\u001b[1;32m    265\u001b[0m     exp_keys \u001b[38;5;241m=\u001b[39m [experiment]\n",
      "\u001b[0;31mTypeError\u001b[0m: object of type 'NoneType' has no len()"
     ]
    }
   ],
   "source": [
    "# Save the job results in a file.\n",
    "for job, n, i in jobsList:\n",
    "    print(job, i, n)\n",
    "    result = job.result().get_counts()\n",
    "    with open(\n",
    "        f'IonQForte/n{n}i{i}.txt', 'w+'\n",
    "    ) as file:\n",
    "        file.write(str(result))"
   ]
  }
 ],
 "metadata": {
  "kernelspec": {
   "display_name": "conda_braket",
   "language": "python",
   "name": "conda_braket"
  },
  "language_info": {
   "codemirror_mode": {
    "name": "ipython",
    "version": 3
   },
   "file_extension": ".py",
   "mimetype": "text/x-python",
   "name": "python",
   "nbconvert_exporter": "python",
   "pygments_lexer": "ipython3",
   "version": "3.10.13"
  }
 },
 "nbformat": 4,
 "nbformat_minor": 4
}
